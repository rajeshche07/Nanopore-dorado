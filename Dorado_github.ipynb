{
  "nbformat": 4,
  "nbformat_minor": 0,
  "metadata": {
    "colab": {
      "provenance": [],
      "authorship_tag": "ABX9TyOCFCyW9TnfVtKZVtk/oRwV"
    },
    "kernelspec": {
      "name": "python3",
      "display_name": "Python 3"
    },
    "language_info": {
      "name": "python"
    }
  },
  "cells": [
    {
      "cell_type": "code",
      "execution_count": 1,
      "metadata": {
        "colab": {
          "base_uri": "https://localhost:8080/"
        },
        "id": "N5W72EwuvNyT",
        "outputId": "c371a180-2f2b-48a2-f964-898303c42818"
      },
      "outputs": [
        {
          "output_type": "stream",
          "name": "stdout",
          "text": [
            "--2025-01-11 05:03:39--  https://cdn.oxfordnanoportal.com/software/analysis/dorado-0.9.0-linux-x64.tar.gz\n",
            "Resolving cdn.oxfordnanoportal.com (cdn.oxfordnanoportal.com)... 3.169.231.45, 3.169.231.10, 3.169.231.54, ...\n",
            "Connecting to cdn.oxfordnanoportal.com (cdn.oxfordnanoportal.com)|3.169.231.45|:443... connected.\n",
            "HTTP request sent, awaiting response... 200 OK\n",
            "Length: 2593394059 (2.4G) [application/x-tar]\n",
            "Saving to: ‘dorado-0.9.0-linux-x64.tar.gz’\n",
            "\n",
            "dorado-0.9.0-linux- 100%[===================>]   2.42G   228MB/s    in 13s     \n",
            "\n",
            "2025-01-11 05:03:52 (183 MB/s) - ‘dorado-0.9.0-linux-x64.tar.gz’ saved [2593394059/2593394059]\n",
            "\n"
          ]
        }
      ],
      "source": [
        "# Use wget to download the installation package\n",
        "!wget https://cdn.oxfordnanoportal.com/software/analysis/dorado-0.9.0-linux-x64.tar.gz\n",
        "\n",
        "# Extract the downloaded package\n",
        "!tar -xzf dorado-0.9.0-linux-x64.tar.gz"
      ]
    },
    {
      "cell_type": "code",
      "source": [
        "#changing directory important\n",
        "%cd /content/dorado-0.9.0-linux-x64/bin"
      ],
      "metadata": {
        "colab": {
          "base_uri": "https://localhost:8080/"
        },
        "id": "KM3aHib8zxpv",
        "outputId": "255e5635-2de3-4aa2-c589-9129313fc69b"
      },
      "execution_count": 6,
      "outputs": [
        {
          "output_type": "stream",
          "name": "stdout",
          "text": [
            "/content/dorado-0.9.0-linux-x64/bin\n"
          ]
        }
      ]
    },
    {
      "cell_type": "code",
      "source": [
        "#checking sucessful installation\n",
        "!./dorado"
      ],
      "metadata": {
        "colab": {
          "base_uri": "https://localhost:8080/"
        },
        "id": "l-jJTl4ixJ7m",
        "outputId": "549cd405-942b-43c9-da10-0019a0d51709"
      },
      "execution_count": 4,
      "outputs": [
        {
          "output_type": "stream",
          "name": "stdout",
          "text": [
            "Usage: dorado [options] subcommand\n",
            "\n",
            "Positional arguments:\n",
            "aligner\n",
            "basecaller\n",
            "correct\n",
            "demux\n",
            "download\n",
            "duplex\n",
            "polish\n",
            "summary\n",
            "trim\n",
            "\n",
            "Optional arguments:\n",
            "-h --help               shows help message and exits\n",
            "-v --version            prints version information and exits\n",
            "-vv                     prints verbose version information and exits\n"
          ]
        }
      ]
    },
    {
      "cell_type": "code",
      "source": [
        "!./dorado --help"
      ],
      "metadata": {
        "colab": {
          "base_uri": "https://localhost:8080/"
        },
        "id": "RA1Ciiz_xc-E",
        "outputId": "e02f23bb-b58d-4828-afd4-e7b9a511de9a"
      },
      "execution_count": 5,
      "outputs": [
        {
          "output_type": "stream",
          "name": "stdout",
          "text": [
            "[2025-01-11 05:11:17.969] [\u001b[32minfo\u001b[m] Running: \"--help\"\n",
            "Usage: dorado [options] subcommand\n",
            "\n",
            "Positional arguments:\n",
            "aligner\n",
            "basecaller\n",
            "correct\n",
            "demux\n",
            "download\n",
            "duplex\n",
            "polish\n",
            "summary\n",
            "trim\n",
            "\n",
            "Optional arguments:\n",
            "-h --help               shows help message and exits\n",
            "-v --version            prints version information and exits\n",
            "-vv                     prints verbose version information and exits\n"
          ]
        }
      ]
    },
    {
      "cell_type": "code",
      "source": [
        "#model download\n",
        "!./dorado download --model dna_r10.4.1_e8.2_400bps_fast@v4.1.0"
      ],
      "metadata": {
        "colab": {
          "base_uri": "https://localhost:8080/"
        },
        "id": "E8GnzEd32R_w",
        "outputId": "f4a7d0e8-29e9-4f3f-8110-a1779163e56c"
      },
      "execution_count": 9,
      "outputs": [
        {
          "output_type": "stream",
          "name": "stdout",
          "text": [
            "[2025-01-11 05:36:21.786] [\u001b[32minfo\u001b[m] Running: \"download\" \"--model\" \"dna_r10.4.1_e8.2_400bps_fast@v4.1.0\"\n",
            "[2025-01-11 05:36:21.789] [\u001b[32minfo\u001b[m]  - downloading dna_r10.4.1_e8.2_400bps_fast@v4.1.0 with httplib\n"
          ]
        }
      ]
    },
    {
      "cell_type": "code",
      "source": [
        "#basecalling for fastq output\n",
        "\n",
        "!./dorado basecaller dna_r10.4.1_e8.2_400bps_fast@v4.1.0 ./*pod5 --emit-fastq > output.fastq"
      ],
      "metadata": {
        "colab": {
          "base_uri": "https://localhost:8080/"
        },
        "id": "ttZeYDXW2hNM",
        "outputId": "637e14fc-135a-4e49-a248-e29cf7d67f7b"
      },
      "execution_count": 11,
      "outputs": [
        {
          "output_type": "stream",
          "name": "stdout",
          "text": [
            "[2025-01-11 05:37:42.878] [\u001b[32minfo\u001b[m] Running: \"basecaller\" \"dna_r10.4.1_e8.2_400bps_fast@v4.1.0\" \"./dna_r10.4.1_e8.2_400bps_4khz-FLO_PRO114M-SQK_PCS114-4000.pod5\" \"--emit-fastq\"\n",
            "[2025-01-11 05:37:42.880] [\u001b[32minfo\u001b[m] Failed to load NVML\n",
            "[2025-01-11 05:37:42.880] [\u001b[32minfo\u001b[m]  - Note: FASTQ output is not recommended as not all data can be preserved.\n",
            "[2025-01-11 05:37:42.886] [\u001b[32minfo\u001b[m] > Creating basecall pipeline\n",
            "\u001b[K[2025-01-11 05:38:02.359] [\u001b[32minfo\u001b[m] > Finished in (ms): 19146\n",
            "[2025-01-11 05:38:02.359] [\u001b[32minfo\u001b[m] > Simplex reads basecalled: 1\n",
            "[2025-01-11 05:38:02.359] [\u001b[32minfo\u001b[m] > Basecalled @ Samples/s: 1.064452e+02\n",
            "[2025-01-11 05:38:02.360] [\u001b[32minfo\u001b[m] > Finished\n"
          ]
        }
      ]
    }
  ]
}