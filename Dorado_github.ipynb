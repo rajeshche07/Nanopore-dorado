{
  "nbformat": 4,
  "nbformat_minor": 0,
  "metadata": {
    "colab": {
      "provenance": [],
      "authorship_tag": "ABX9TyNBPfrwdjfv2aZCrXyyZUmp"
    },
    "kernelspec": {
      "name": "python3",
      "display_name": "Python 3"
    },
    "language_info": {
      "name": "python"
    }
  },
  "cells": [
    {
      "cell_type": "code",
      "execution_count": 1,
      "metadata": {
        "colab": {
          "base_uri": "https://localhost:8080/"
        },
        "id": "N5W72EwuvNyT",
        "outputId": "c371a180-2f2b-48a2-f964-898303c42818"
      },
      "outputs": [
        {
          "output_type": "stream",
          "name": "stdout",
          "text": [
            "--2025-01-11 05:03:39--  https://cdn.oxfordnanoportal.com/software/analysis/dorado-0.9.0-linux-x64.tar.gz\n",
            "Resolving cdn.oxfordnanoportal.com (cdn.oxfordnanoportal.com)... 3.169.231.45, 3.169.231.10, 3.169.231.54, ...\n",
            "Connecting to cdn.oxfordnanoportal.com (cdn.oxfordnanoportal.com)|3.169.231.45|:443... connected.\n",
            "HTTP request sent, awaiting response... 200 OK\n",
            "Length: 2593394059 (2.4G) [application/x-tar]\n",
            "Saving to: ‘dorado-0.9.0-linux-x64.tar.gz’\n",
            "\n",
            "dorado-0.9.0-linux- 100%[===================>]   2.42G   228MB/s    in 13s     \n",
            "\n",
            "2025-01-11 05:03:52 (183 MB/s) - ‘dorado-0.9.0-linux-x64.tar.gz’ saved [2593394059/2593394059]\n",
            "\n"
          ]
        }
      ],
      "source": [
        "# Use wget to download the installation package\n",
        "!wget https://cdn.oxfordnanoportal.com/software/analysis/dorado-0.9.0-linux-x64.tar.gz\n",
        "\n",
        "# Extract the downloaded package\n",
        "!tar -xzf dorado-0.9.0-linux-x64.tar.gz"
      ]
    },
    {
      "cell_type": "code",
      "source": [
        "#changing directory important\n",
        "%cd /content/dorado-0.9.0-linux-x64/bin"
      ],
      "metadata": {
        "colab": {
          "base_uri": "https://localhost:8080/"
        },
        "id": "KM3aHib8zxpv",
        "outputId": "255e5635-2de3-4aa2-c589-9129313fc69b"
      },
      "execution_count": 6,
      "outputs": [
        {
          "output_type": "stream",
          "name": "stdout",
          "text": [
            "/content/dorado-0.9.0-linux-x64/bin\n"
          ]
        }
      ]
    },
    {
      "cell_type": "code",
      "source": [
        "#checking sucessful installation\n",
        "!./dorado"
      ],
      "metadata": {
        "colab": {
          "base_uri": "https://localhost:8080/"
        },
        "id": "l-jJTl4ixJ7m",
        "outputId": "549cd405-942b-43c9-da10-0019a0d51709"
      },
      "execution_count": 4,
      "outputs": [
        {
          "output_type": "stream",
          "name": "stdout",
          "text": [
            "Usage: dorado [options] subcommand\n",
            "\n",
            "Positional arguments:\n",
            "aligner\n",
            "basecaller\n",
            "correct\n",
            "demux\n",
            "download\n",
            "duplex\n",
            "polish\n",
            "summary\n",
            "trim\n",
            "\n",
            "Optional arguments:\n",
            "-h --help               shows help message and exits\n",
            "-v --version            prints version information and exits\n",
            "-vv                     prints verbose version information and exits\n"
          ]
        }
      ]
    },
    {
      "cell_type": "code",
      "source": [
        "!./dorado --help"
      ],
      "metadata": {
        "colab": {
          "base_uri": "https://localhost:8080/"
        },
        "id": "RA1Ciiz_xc-E",
        "outputId": "e02f23bb-b58d-4828-afd4-e7b9a511de9a"
      },
      "execution_count": 5,
      "outputs": [
        {
          "output_type": "stream",
          "name": "stdout",
          "text": [
            "[2025-01-11 05:11:17.969] [\u001b[32minfo\u001b[m] Running: \"--help\"\n",
            "Usage: dorado [options] subcommand\n",
            "\n",
            "Positional arguments:\n",
            "aligner\n",
            "basecaller\n",
            "correct\n",
            "demux\n",
            "download\n",
            "duplex\n",
            "polish\n",
            "summary\n",
            "trim\n",
            "\n",
            "Optional arguments:\n",
            "-h --help               shows help message and exits\n",
            "-v --version            prints version information and exits\n",
            "-vv                     prints verbose version information and exits\n"
          ]
        }
      ]
    }
  ]
}